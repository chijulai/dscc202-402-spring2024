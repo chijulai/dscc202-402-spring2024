{
 "cells": [
  {
   "cell_type": "markdown",
   "metadata": {
    "application/vnd.databricks.v1+cell": {
     "cellMetadata": {
      "byteLimit": 2048000,
      "rowLimit": 10000
     },
     "inputWidgets": {},
     "nuid": "fc749083-2211-485c-943f-640e198b2c70",
     "showTitle": false,
     "title": ""
    }
   },
   "source": [
    "## DSCC202-402 Data Science at Scale Final Project\n",
    "### Tracking Tweet sentiment at scale using a pretrained transformer (classifier)\n",
    "<p>Consider the following illustration of the end to end system that you will be building.  Each student should do their own work.  The project will demonstrate your understanding of Spark Streaming, the medalion data architecture using Delta Lake, Spark Inference at Scale using an MLflow packaged model as well as Exploritory Data Analysis and System Tracking and Monitoring.</p>\n",
    "<br><br>\n",
    "<img src=\"https://data-science-at-scale.s3.amazonaws.com/images/pipeline.drawio.png\">\n",
    "\n",
    "<p>\n",
    "You will be pulling an updated copy of the course GitHub repositiory: <a href=\"https://github.com/lpalum/dscc202-402-spring2024\">The Repo</a>.  If you are unclear on how to pull an updated copy using the GitHub command line, the following <a href=\"https://techwritingmatters.com/how-to-update-your-forked-repository-on-github\">document</a> is helpful.  Be sure to add the professors and TAs as collaborators on your project. \n",
    "\n",
    "- lpalum@gmail.com GitHub ID: lpalum\n",
    "- ajay.anand@rochester.edu GitHub ID: ajayan12\n",
    "- divyamunot1999@gmail.com GitHub ID: divyamunot\n",
    "- ylong6@u.Rochester.edu GitHub ID: NinaLong2077\n",
    "\n",
    "Once you have updates your fork of the repository you should see the following template project that is resident in the final_project directory.\n",
    "</p>\n",
    "\n",
    "<img src=\"https://data-science-at-scale.s3.amazonaws.com/images/notebooks.drawio.png\">\n",
    "\n",
    "<p>\n",
    "You can then pull your project into the Databrick Workspace using the <a href=\"https://www.databricks.training/step-by-step/importing-courseware-from-github/index.html\">Repos</a> feature.\n",
    "Each student is expected to submit the URL of their project on GitHub with their code checked in on the main/master branch.  This illustration highlights the branching scheme that you may use to work on your code in steps and then merge your submission into your master branch before submitting.\n",
    "</p>\n",
    "<img src=\"https://data-science-at-scale.s3.amazonaws.com/images/github.drawio.png\">\n",
    "<p>\n",
    "Work your way through this notebook which will give you the steps required to submit a complete and compliant project.  The following illustration and associated data dictionary specifies the transformations and data that you are to generate for each step in the medallion pipeline.\n",
    "</p>\n",
    "<br><br>\n",
    "<img src=\"https://data-science-at-scale.s3.amazonaws.com/images/dataframes.drawio.png\">\n",
    "\n",
    "#### Bronze Data - raw ingest\n",
    "- date - string in the source json\n",
    "- user - string in the source json\n",
    "- text - tweet string in the source json\n",
    "- sentiment - the given sentiment of the text as determined by an unknown model that is provided in the source json\n",
    "- source_file - the path of the source json file the this row of data was read from\n",
    "- processing_time - a timestamp of when you read this row from the source json\n",
    "\n",
    "#### Silver Data - Bronze Preprocessing\n",
    "- timestamp - convert date string in the bronze data to a timestamp\n",
    "- mention - every @username mentioned in the text string in the bronze data gets a row in this silver data table.\n",
    "- cleaned_text - the bronze text data with the mentions (@username) removed.\n",
    "- sentiment - the given sentiment that was associated with the text in the bronze table.\n",
    "\n",
    "#### Gold Data - Silver Table Inference\n",
    "- timestamp - the timestamp from the silver data table rows\n",
    "- mention - the mention from the silver data table rows\n",
    "- cleaned_text - the cleaned_text from the silver data table rows\n",
    "- sentiment - the given sentiment from the silver data table rows\n",
    "- predicted_score - score out of 100 from the Hugging Face Sentiment Transformer\n",
    "- predicted_sentiment - string representation of the sentiment\n",
    "- sentiment_id - 0 for negative and 1 for postive associated with the given sentiment\n",
    "- predicted_sentiment_id - 0 for negative and 1 for positive assocaited with the Hugging Face Sentiment Transformer\n",
    "\n",
    "#### Application Data - Gold Table Aggregation\n",
    "- min_timestamp - the oldest timestamp on a given mention (@username)\n",
    "- max_timestamp - the newest timestamp on a given mention (@username)\n",
    "- mention - the user (@username) that this row pertains to.\n",
    "- negative - total negative tweets directed at this mention (@username)\n",
    "- neutral - total neutral tweets directed at this mention (@username)\n",
    "- positive - total positive tweets directed at this mention (@username)\n",
    "\n",
    "When you are designing your approach, one of the main decisions that you will need to make is how you are going to orchestrate the streaming data processing in your pipeline.  There are several valid approaches.  First, you may choose to start the bronze_stream and let it complete (read and append all of the source data) before preceeding and starting up the silver_stream.  This approach has latency associated with it but it will allow your code to proceed in a linear fashion and process all the data by the end of your notebook execution.  Another potential approach is to start all the streams and have a \"watch\" method to determine when the pipeline has processed sufficient or all of the source data before stopping and displaying results.  Both of these approaches are valid and have different implications on how you will trigger your steams and how you will gate the execution of your pipeline.  Think through how you want to proceed and ask questions if you need guidance. The following references may be helpful:\n",
    "- [Spark Structured Streaming Programming Guide](https://spark.apache.org/docs/latest/structured-streaming-programming-guide.html)\n",
    "- [Databricks Autoloader - Cloudfiles](https://docs.databricks.com/en/ingestion/auto-loader/index.html)\n",
    "\n",
    "### Be sure that your project runs end to end when *Run all* is executued on this notebook! (15 Points out of 60)"
   ]
  },
  {
   "cell_type": "code",
   "execution_count": 0,
   "metadata": {
    "application/vnd.databricks.v1+cell": {
     "cellMetadata": {
      "byteLimit": 2048000,
      "rowLimit": 10000
     },
     "inputWidgets": {},
     "nuid": "cc40957e-95aa-4fa3-8932-0d83e82595fa",
     "showTitle": false,
     "title": ""
    }
   },
   "outputs": [],
   "source": [
    "pip install pyspark"
   ]
  },
  {
   "cell_type": "code",
   "execution_count": 0,
   "metadata": {
    "application/vnd.databricks.v1+cell": {
     "cellMetadata": {
      "byteLimit": 2048000,
      "rowLimit": 10000
     },
     "inputWidgets": {},
     "nuid": "068f25d0-1387-4342-89cf-ce82a8d614ce",
     "showTitle": true,
     "title": "Pull in the Includes & Utiltites"
    }
   },
   "outputs": [],
   "source": [
    "%run ./includes/includes"
   ]
  },
  {
   "cell_type": "code",
   "execution_count": 0,
   "metadata": {
    "application/vnd.databricks.v1+cell": {
     "cellMetadata": {
      "byteLimit": 2048000,
      "rowLimit": 10000
     },
     "inputWidgets": {},
     "nuid": "6512bf1b-50e0-4a4b-84a9-e280a6260b56",
     "showTitle": true,
     "title": "Notebook Control Widgets (maybe helpful)"
    }
   },
   "outputs": [],
   "source": [
    "\"\"\"\n",
    "Adding a widget to the notebook to control the clearing of a previous run.\n",
    "or stopping the active streams using routines defined in the utilities notebook\n",
    "\"\"\"\n",
    "dbutils.widgets.removeAll()\n",
    "\n",
    "dbutils.widgets.dropdown(\"clear_previous_run\", \"No\", [\"No\",\"Yes\"])\n",
    "if (getArgument(\"clear_previous_run\") == \"Yes\"):\n",
    "    clear_previous_run()\n",
    "    print(\"Cleared all previous data.\")\n",
    "\n",
    "dbutils.widgets.dropdown(\"stop_streams\", \"No\", [\"No\",\"Yes\"])\n",
    "if (getArgument(\"stop_streams\") == \"Yes\"):\n",
    "    stop_all_streams()\n",
    "    print(\"Stopped all active streams.\")\n",
    "\n",
    "from delta import *\n",
    "dbutils.widgets.dropdown(\"optimize_tables\", \"No\", [\"No\",\"Yes\"])\n",
    "if (getArgument(\"optimize_tables\") == \"Yes\"):\n",
    "    # Suck up those small files that we have been appending.\n",
    "    DeltaTable.forPath(spark, BRONZE_DELTA).optimize().executeCompaction()\n",
    "    # Suck up those small files that we have been appending.\n",
    "    DeltaTable.forPath(spark, SILVER_DELTA).optimize().executeCompaction()\n",
    "    # Suck up those small files that we have been appending.\n",
    "    DeltaTable.forPath(spark, GOLD_DELTA).optimize().executeCompaction()\n",
    "    print(\"Optimized all of the Delta Tables\")"
   ]
  },
  {
   "cell_type": "markdown",
   "metadata": {
    "application/vnd.databricks.v1+cell": {
     "cellMetadata": {
      "byteLimit": 2048000,
      "rowLimit": 10000
     },
     "inputWidgets": {},
     "nuid": "e8ce7c13-7f8f-4e11-b50c-fdaebbcf3f99",
     "showTitle": false,
     "title": ""
    }
   },
   "source": [
    "## 1.0 Import your libraries here...\n",
    "- Are your shuffle partitions consistent with your cluster and your workload?\n",
    "- Do you have the necessary libraries to perform the required operations in the pipeline/application?"
   ]
  },
  {
   "cell_type": "code",
   "execution_count": 0,
   "metadata": {
    "application/vnd.databricks.v1+cell": {
     "cellMetadata": {
      "byteLimit": 2048000,
      "rowLimit": 10000
     },
     "inputWidgets": {},
     "nuid": "67bafbb7-d34e-4e86-b159-b2e062faa1d0",
     "showTitle": false,
     "title": ""
    }
   },
   "outputs": [],
   "source": [
    "from pyspark.sql.types import DoubleType, StringType, StructType, StructField\n",
    "from pyspark.sql.functions import input_file_name, current_timestamp, col, split, explode, regexp_replace, to_timestamp, udf, when, count, sum, min, max\n",
    "from sklearn.metrics import precision_score, recall_score, f1_score, confusion_matrix\n",
    "import mlflow\n",
    "import mlflow.pyfunc\n",
    "import numpy as np\n",
    "import matplotlib.pyplot as plt"
   ]
  },
  {
   "cell_type": "code",
   "execution_count": 0,
   "metadata": {
    "application/vnd.databricks.v1+cell": {
     "cellMetadata": {
      "byteLimit": 2048000,
      "rowLimit": 10000
     },
     "inputWidgets": {},
     "nuid": "1db56744-3c85-4cd3-a03e-5ac7c5d44303",
     "showTitle": false,
     "title": ""
    }
   },
   "outputs": [],
   "source": [
    "# Setup the partitions and turn on AQE\n",
    "spark.conf.set(\"spark.sql.shuffle.partitions\", \"32\")  # keep the size of shuffles to cores default shuffle partitions of 200 will create \"thrash\"\n",
    "spark.conf.set(\"spark.sql.adaptive.enabled\", \"true\") # Spark 3.0 AQE - coalescing post-shuffle partitions, converting sort-merge join to broadcast join, and skew join optimization"
   ]
  },
  {
   "cell_type": "markdown",
   "metadata": {
    "application/vnd.databricks.v1+cell": {
     "cellMetadata": {
      "byteLimit": 2048000,
      "rowLimit": 10000
     },
     "inputWidgets": {},
     "nuid": "2b7624b4-0aa5-46b7-9767-52f462b2c574",
     "showTitle": false,
     "title": ""
    }
   },
   "source": [
    "## 2.0 Use the utility functions to ...\n",
    "- Read the source file directory listing\n",
    "- Count the source files (how many are there?)\n",
    "- print the contents of one of the files"
   ]
  },
  {
   "cell_type": "code",
   "execution_count": 0,
   "metadata": {
    "application/vnd.databricks.v1+cell": {
     "cellMetadata": {
      "byteLimit": 2048000,
      "rowLimit": 10000
     },
     "inputWidgets": {},
     "nuid": "a59749d5-e45d-460f-9be1-33652cda2ea5",
     "showTitle": false,
     "title": ""
    }
   },
   "outputs": [],
   "source": [
    "# Read the source file directory listing as Dataframe\n",
    "src_file_dic_listing_df = get_source_listing_df()\n",
    "\n",
    "# Count the source files\n",
    "count_files = src_file_dic_listing_df['File Name'].count()      # from 'utilities'\n",
    "print(f\"Number of files in source directory: {count_files}\")\n"
   ]
  },
  {
   "cell_type": "code",
   "execution_count": 0,
   "metadata": {
    "application/vnd.databricks.v1+cell": {
     "cellMetadata": {
      "byteLimit": 2048000,
      "rowLimit": 10000
     },
     "inputWidgets": {},
     "nuid": "db118d7d-b954-468d-ab31-e6a3b78161b9",
     "showTitle": false,
     "title": ""
    }
   },
   "outputs": [],
   "source": [
    "# show what that df looks like\n",
    "src_file_dic_listing_df"
   ]
  },
  {
   "cell_type": "code",
   "execution_count": 0,
   "metadata": {
    "application/vnd.databricks.v1+cell": {
     "cellMetadata": {
      "byteLimit": 2048000,
      "rowLimit": 10000
     },
     "inputWidgets": {},
     "nuid": "5cea7465-e6ac-4f1d-9e79-29f9d2307221",
     "showTitle": false,
     "title": ""
    }
   },
   "outputs": [],
   "source": [
    "# Print the content of one of the files\n",
    "example_file = src_file_dic_listing_df['File Name'][13] # get the data at 13th row \n",
    "example_file_name = example_file.split(\"/\")[-1] # split the string into 2 parts, and get the later one [1]. (exactly, file name)\n",
    "example_file_content = show_s3_file_contents(example_file).decode('utf-8')\n",
    "\n",
    "print(f\"Contents of {example_file_name}: \\n {example_file_content}\")"
   ]
  },
  {
   "cell_type": "markdown",
   "metadata": {
    "application/vnd.databricks.v1+cell": {
     "cellMetadata": {
      "byteLimit": 2048000,
      "rowLimit": 10000
     },
     "inputWidgets": {},
     "nuid": "812ccfbd-3f2b-49c6-a049-eedf60529ddd",
     "showTitle": false,
     "title": ""
    }
   },
   "source": [
    "The difference between '.count()' and 'len()', when using for calculating the length of dataframe?\n",
    "- **\".count()\"** : Counts the number of non-NA/null values, excluding any missing or null values that might be present.\n",
    "- **\"len()\"**: Counts the total number of entries, including NA/null values, regardless of whether it contains valid data or not. This is more about the size of the DataFrame column than the content."
   ]
  },
  {
   "cell_type": "markdown",
   "metadata": {
    "application/vnd.databricks.v1+cell": {
     "cellMetadata": {
      "byteLimit": 2048000,
      "rowLimit": 10000
     },
     "inputWidgets": {},
     "nuid": "1676aed7-527f-4ea7-9d3b-52544e8c1e37",
     "showTitle": false,
     "title": ""
    }
   },
   "source": [
    "## 3.0 Transform the Raw Data to Bronze Data using a stream\n",
    "- define the schema for the raw data\n",
    "- setup a read stream using cloudfiles and the source data format\n",
    "- setup a write stream using cloudfiles to append to the bronze delta table\n",
    "- enforce schema\n",
    "- allow a new schema to be merged into the bronze delta table\n",
    "- Use the defined BRONZE_CHECKPOINT and BRONZE_DELTA paths defines in the includes\n",
    "- name your raw to bronze stream as bronze_stream\n",
    "- transform the raw data to the bronze data using the data definition at the top of the notebook"
   ]
  },
  {
   "cell_type": "code",
   "execution_count": 0,
   "metadata": {
    "application/vnd.databricks.v1+cell": {
     "cellMetadata": {
      "byteLimit": 2048000,
      "rowLimit": 10000
     },
     "inputWidgets": {},
     "nuid": "c4e37574-9885-4908-bf97-609d140a8818",
     "showTitle": false,
     "title": ""
    }
   },
   "outputs": [],
   "source": [
    "# Define the schema for the raw data\n",
    "# 'StructType' is the class name as defined in the PySpark library for defining DataFrame schemas\n",
    "# 'StructField' is used to specify the name, data type, and nullability of each column in the DataFrame\n",
    "rawdata_schema = StructType([\n",
    "    StructField(\"date\", StringType(), nullable=True),\n",
    "    StructField(\"user\", StringType(), nullable=True),\n",
    "    StructField(\"text\", StringType(), nullable=True),\n",
    "    StructField(\"sentiment\", StringType(), nullable=True)\n",
    "])"
   ]
  },
  {
   "cell_type": "code",
   "execution_count": 0,
   "metadata": {
    "application/vnd.databricks.v1+cell": {
     "cellMetadata": {
      "byteLimit": 2048000,
      "rowLimit": 10000
     },
     "inputWidgets": {},
     "nuid": "62f405b0-aa67-43cc-8444-31f7aca004b2",
     "showTitle": false,
     "title": ""
    }
   },
   "outputs": [],
   "source": [
    "# Setup a read stream using cloudfiles and the source data format\n",
    "# Transform the raw data to the bronze data using the data definition at the top of the notebook\n",
    "rawdata_stream = (\n",
    "    spark\n",
    "    .readStream                                         # Initialize the read stream\n",
    "    .format(\"cloudfiles\")                               # Use the cloudfiles source format for cloud-based storage systems\n",
    "    .option(\"cloudfiles.format\", \"json\")                # declaring the cloudfiles format is JSON\n",
    "    .schema(rawdata_schema)                             # Apply the predefined schema to ensure correct data-type\n",
    "    .load(TWEET_SOURCE_PATH)                            # Where the streaming data source is located\n",
    "    .withColumn('source_file', input_file_name())       # returns the name of the file currently being processed in PySpark\n",
    "    .withColumn('processing_time', current_timestamp()) # used in streaming applications to record when data was processed\n",
    ")"
   ]
  },
  {
   "cell_type": "code",
   "execution_count": 0,
   "metadata": {
    "application/vnd.databricks.v1+cell": {
     "cellMetadata": {
      "byteLimit": 2048000,
      "rowLimit": 10000
     },
     "inputWidgets": {},
     "nuid": "7f62374a-841e-4c9c-9605-e78a36b0320a",
     "showTitle": false,
     "title": ""
    }
   },
   "outputs": [],
   "source": [
    "# Setup a write stream using cloudfiles to append to the bronze delta table\n",
    "bronze_query = (\n",
    "    rawdata_stream\n",
    "    .writeStream                                          # Initialize the write stream\n",
    "    .option(\"mergeSchema\", \"true\")                        # Allow a new schema to be merged into the bronze delta table\n",
    "    .outputMode(\"append\")                                 # Set the output mode to append, to ensure data is added\n",
    "    .format(\"delta\")                                      # Use the \"Delta\" format for storage\n",
    "    .queryName(\"bronze_stream\")                           # Name your raw to bronze stream as bronze_stream\n",
    "    .option(\"checkpointLocation\", BRONZE_CHECKPOINT)      # Specify the checkpoint location for fault tolerance\n",
    "    .start(BRONZE_DELTA)                                  # Start the bronze stream with the path to the Delta table\n",
    ")"
   ]
  },
  {
   "cell_type": "code",
   "execution_count": 0,
   "metadata": {
    "application/vnd.databricks.v1+cell": {
     "cellMetadata": {
      "byteLimit": 2048000,
      "rowLimit": 10000
     },
     "inputWidgets": {},
     "nuid": "5acc1071-b6c5-4ecb-8757-225cbd85be9a",
     "showTitle": false,
     "title": ""
    }
   },
   "outputs": [],
   "source": [
    "# To monitor and confirm that \"bronze_stream\" has successfully started\n",
    "bronze_started = wait_stream_start(spark, \"bronze_stream\")"
   ]
  },
  {
   "cell_type": "markdown",
   "metadata": {
    "application/vnd.databricks.v1+cell": {
     "cellMetadata": {
      "byteLimit": 2048000,
      "rowLimit": 10000
     },
     "inputWidgets": {},
     "nuid": "9bc3e824-d218-43e5-a43b-4c6dbe31950d",
     "showTitle": false,
     "title": ""
    }
   },
   "source": [
    "## 4.0 Bronze Data Exploratory Data Analysis\n",
    "- How many tweets are captured in your Bronze Table?\n",
    "- Are there any columns that contain Nan or Null values?  If so how many and what will you do in your silver transforms to address this?\n",
    "- Count the number of tweets by each unique user handle and sort the data by descending count.\n",
    "- How many tweets have at least one mention (@) how many tweet have no mentions (@)\n",
    "- Plot a bar chart that shows the top 20 tweeters (users)\n"
   ]
  },
  {
   "cell_type": "code",
   "execution_count": 0,
   "metadata": {
    "application/vnd.databricks.v1+cell": {
     "cellMetadata": {
      "byteLimit": 2048000,
      "rowLimit": 10000
     },
     "inputWidgets": {},
     "nuid": "091ec59c-d968-4acf-b56f-cc9178cd0693",
     "showTitle": false,
     "title": ""
    }
   },
   "outputs": [],
   "source": [
    "# Load the bronze table\n",
    "# Reading data from an external storage location ('BRONZE_DELTA') with \"delta\" format\n",
    "\n",
    "bronze_eda = (spark\n",
    "              .read\n",
    "              .format(\"delta\")\n",
    "              .load(BRONZE_DELTA)\n",
    ")"
   ]
  },
  {
   "cell_type": "code",
   "execution_count": 0,
   "metadata": {
    "application/vnd.databricks.v1+cell": {
     "cellMetadata": {
      "byteLimit": 2048000,
      "rowLimit": 10000
     },
     "inputWidgets": {},
     "nuid": "95f6ead3-0113-4017-8c91-d3a95b45eee0",
     "showTitle": false,
     "title": ""
    }
   },
   "outputs": [],
   "source": [
    "bronze_eda.show()"
   ]
  },
  {
   "cell_type": "code",
   "execution_count": 0,
   "metadata": {
    "application/vnd.databricks.v1+cell": {
     "cellMetadata": {
      "byteLimit": 2048000,
      "rowLimit": 10000
     },
     "inputWidgets": {},
     "nuid": "ba6109d5-4d42-41f3-9cd4-f32e8ec1af32",
     "showTitle": false,
     "title": ""
    }
   },
   "outputs": [],
   "source": [
    "# Enable to display full content\n",
    "spark.conf.set(\"spark.sql.repl.eagerEval.enabled\", True)\n",
    "\n",
    "# Show the full content of the \"date\" column\n",
    "bronze_eda.select('date').show(truncate=False)"
   ]
  },
  {
   "cell_type": "code",
   "execution_count": 0,
   "metadata": {
    "application/vnd.databricks.v1+cell": {
     "cellMetadata": {
      "byteLimit": 2048000,
      "rowLimit": 10000
     },
     "inputWidgets": {},
     "nuid": "a76fe8ca-ba3a-4703-992a-5ed7f37ada7c",
     "showTitle": false,
     "title": ""
    }
   },
   "outputs": [],
   "source": [
    "# Counting how many tweets are captured in Bronze Table\n",
    "tweet_count = bronze_eda.count()\n",
    "print(f\"{tweet_count} tweets are captured in Bronze Table. \")"
   ]
  },
  {
   "cell_type": "code",
   "execution_count": 0,
   "metadata": {
    "application/vnd.databricks.v1+cell": {
     "cellMetadata": {
      "byteLimit": 2048000,
      "rowLimit": 10000
     },
     "inputWidgets": {},
     "nuid": "6dac52c2-5be2-4ed7-a48b-cea468e54878",
     "showTitle": false,
     "title": ""
    }
   },
   "outputs": [],
   "source": [
    "# Check if there's any missing value in each column\n",
    "bronze_missing = {c: bronze_eda.where(col(c).isNull()).count() for c in bronze_eda.columns}\n",
    "\n",
    "for name, count in bronze_missing.items():\n",
    "    print(f\"{count} missing values in column '{name}'.\")"
   ]
  },
  {
   "cell_type": "code",
   "execution_count": 0,
   "metadata": {
    "application/vnd.databricks.v1+cell": {
     "cellMetadata": {
      "byteLimit": 2048000,
      "rowLimit": 10000
     },
     "inputWidgets": {},
     "nuid": "6933fbe0-aeae-4c84-b27e-a390da235471",
     "showTitle": false,
     "title": ""
    }
   },
   "outputs": [],
   "source": [
    "# Count how many tweet per user posted and sort it descendly by 'count' \n",
    "user_tweet_counts = (\n",
    "    bronze_eda\n",
    "    .groupBy(\"user\")                # Calculate number of tweets each user posted, thus, groupby 'user'\n",
    "    .count()\n",
    "    .sort(\"count\", ascending=False)\n",
    "    .limit(20)                      # Shows the top 20 tweeters (users)\n",
    ")\n",
    "\n",
    "user_tweet_counts.show()"
   ]
  },
  {
   "cell_type": "code",
   "execution_count": 0,
   "metadata": {
    "application/vnd.databricks.v1+cell": {
     "cellMetadata": {
      "byteLimit": 2048000,
      "rowLimit": 10000
     },
     "inputWidgets": {},
     "nuid": "3ef48c1d-c1ca-411e-ae57-11904059f496",
     "showTitle": false,
     "title": ""
    }
   },
   "outputs": [],
   "source": [
    "# Count how many tweet with at least one mention and no mention\n",
    "mention_count = bronze_eda.filter(bronze_eda.text.like('%@%')).count()\n",
    "no_mention_count = bronze_eda.filter(~bronze_eda.text.like('%@%')).count()\n",
    "\n",
    "print(f\"{mention_count} tweets have at least one mention.\")\n",
    "print(f\"{no_mention_count} tweets have no mentions.\")"
   ]
  },
  {
   "cell_type": "code",
   "execution_count": 0,
   "metadata": {
    "application/vnd.databricks.v1+cell": {
     "cellMetadata": {
      "byteLimit": 2048000,
      "rowLimit": 10000
     },
     "inputWidgets": {},
     "nuid": "f5dfdb13-7f18-4231-957d-004490944e46",
     "showTitle": false,
     "title": ""
    }
   },
   "outputs": [],
   "source": [
    "# Plot a bar chart that shows the top 20 tweeters (users)\n",
    "# Collect data from Spark DataFrame and convert it to a list of tuples\n",
    "data = user_tweet_counts.collect()\n",
    "# Extract usernames and tweet counts from the collected data\n",
    "usernames = [row['user'] for row in data]\n",
    "tweet_counts = [row['count'] for row in data]\n",
    "\n",
    "\n",
    "# Create the bar chart using Matplotlib\n",
    "fig, ax = plt.subplots(figsize=(10, 8))  # Create a figure and a single subplot\n",
    "ax.bar(usernames, tweet_counts, color='blue')  # Create a bar chart\n",
    "\n",
    "# Labeling the axes\n",
    "ax.set_xlabel('Username', fontsize=12)  # Set x-axis label\n",
    "ax.set_ylabel('Tweet Count', fontsize=12)  # Set y-axis label\n",
    "ax.set_title('Top 20 Tweeters', fontsize=16)  # Set title\n",
    "\n",
    "# Rotate the x-axis labels to prevent overlap\n",
    "ax.set_xticklabels(usernames, rotation=90, fontsize=10)\n",
    "\n",
    "# Show the plot\n",
    "plt.tight_layout()\n",
    "plt.show()\n"
   ]
  },
  {
   "cell_type": "markdown",
   "metadata": {
    "application/vnd.databricks.v1+cell": {
     "cellMetadata": {
      "byteLimit": 2048000,
      "rowLimit": 10000
     },
     "inputWidgets": {},
     "nuid": "38c290b9-a42a-4551-857b-3f461b8a1be6",
     "showTitle": false,
     "title": ""
    }
   },
   "source": [
    "## 5.0 Transform the Bronze Data to Silver Data using a stream\n",
    "- setup a read stream on your bronze delta table\n",
    "- setup a write stream to append to the silver delta table\n",
    "- Use the defined SILVER_CHECKPOINT and SILVER_DELTA paths in the includes\n",
    "- name your bronze to silver stream as silver_stream\n",
    "- transform the bronze data to the silver data using the data definition at the top of the notebook"
   ]
  },
  {
   "cell_type": "code",
   "execution_count": 0,
   "metadata": {
    "application/vnd.databricks.v1+cell": {
     "cellMetadata": {
      "byteLimit": 2048000,
      "rowLimit": 10000
     },
     "inputWidgets": {},
     "nuid": "65b029cb-ba45-4625-a9c1-d0d410a4962b",
     "showTitle": false,
     "title": ""
    }
   },
   "outputs": [],
   "source": [
    "# Setup a silver read stream with bronze table\n",
    "bronze_to_silver_stream = (\n",
    "    spark\n",
    "    .readStream                                         # Initialize the read stream\n",
    "    .format(\"delta\")                                    # Specify the format of the data source\n",
    "    .load(BRONZE_DELTA)                                 # Load data from the 'BRONZE_DELTA' table\n",
    ")"
   ]
  },
  {
   "cell_type": "code",
   "execution_count": 0,
   "metadata": {
    "application/vnd.databricks.v1+cell": {
     "cellMetadata": {
      "byteLimit": 2048000,
      "rowLimit": 10000
     },
     "inputWidgets": {},
     "nuid": "87b4c8aa-6475-43bd-a2e0-e864c1cf15df",
     "showTitle": false,
     "title": ""
    }
   },
   "outputs": [],
   "source": [
    "# Transform the bronze data to the silver data using the data definition at the top of the notebook\n",
    "bronze_to_silver_transform = (\n",
    "    bronze_to_silver_stream\n",
    "    .withColumn(\"timestamp\", to_timestamp(col(\"date\"), \"yyyy-MM-dd HH:mm:ss\"))            # Convert 'date' to timestamp\n",
    "    .withColumn(\"mention\", explode(split(col('text'),\" \")))                               # Explode 'text' into mentions\n",
    "    .where(\"mention like '@%' and mention <> '@'\")                                        # Filter conditions\n",
    "    .withColumn(\"cleaned_text\", regexp_replace(col('text'),\"(\\s|^)@\\w+\",\"\"))              # Remove \n",
    "    .select(\"timestamp\", \"mention\", \"cleaned_text\", \"sentiment\")\n",
    ")"
   ]
  },
  {
   "cell_type": "code",
   "execution_count": 0,
   "metadata": {
    "application/vnd.databricks.v1+cell": {
     "cellMetadata": {
      "byteLimit": 2048000,
      "rowLimit": 10000
     },
     "inputWidgets": {},
     "nuid": "262faf8e-6313-4c75-8f49-0a4609b74c40",
     "showTitle": false,
     "title": ""
    }
   },
   "outputs": [],
   "source": [
    "# Setup a write stream to append to the silver delta table\n",
    "bronze_to_silver_query = (\n",
    "    bronze_to_silver_transform\n",
    "    .writeStream                                               # Initialize the write stream\n",
    "    .option(\"mergeSchema\", \"true\")                             # Allow a new schema to be merged into the silver delta table\n",
    "    .outputMode(\"append\")                                      # Set the output mode to append, to ensure data is added\n",
    "    .format('delta')                                           # Use the \"Delta\" format for storage\n",
    "    .queryName(\"silver_stream\")                                # Name bronze to silver stream as 'silver_stream'\n",
    "    .option(\"checkpointLocation\", SILVER_CHECKPOINT)           # Specify the checkpoint location for fault tolerance\n",
    "    .start(SILVER_DELTA)                                       # Start the silver stream with the path to the Delta table\n",
    ")"
   ]
  },
  {
   "cell_type": "code",
   "execution_count": 0,
   "metadata": {
    "application/vnd.databricks.v1+cell": {
     "cellMetadata": {
      "byteLimit": 2048000,
      "rowLimit": 10000
     },
     "inputWidgets": {},
     "nuid": "fd54357c-a29d-4c4e-a79d-03cfabe8d3ca",
     "showTitle": false,
     "title": ""
    }
   },
   "outputs": [],
   "source": [
    "silver_started = wait_stream_start(spark, \"silver_stream\")"
   ]
  },
  {
   "cell_type": "code",
   "execution_count": 0,
   "metadata": {
    "application/vnd.databricks.v1+cell": {
     "cellMetadata": {
      "byteLimit": 2048000,
      "rowLimit": 10000
     },
     "inputWidgets": {},
     "nuid": "ae41e470-4603-41bc-a081-215a39096ccb",
     "showTitle": false,
     "title": ""
    }
   },
   "outputs": [],
   "source": [
    "# Show the silver delta table\n",
    "silver_eda = (spark.read.format(\"delta\").load(SILVER_DELTA))\n",
    "silver_eda.show()"
   ]
  },
  {
   "cell_type": "markdown",
   "metadata": {
    "application/vnd.databricks.v1+cell": {
     "cellMetadata": {
      "byteLimit": 2048000,
      "rowLimit": 10000
     },
     "inputWidgets": {},
     "nuid": "9ee38aba-e340-4766-8339-71ef2ecfde3a",
     "showTitle": false,
     "title": ""
    }
   },
   "source": [
    "## 6.0 Transform the Silver Data to Gold Data using a stream\n",
    "- setup a read stream on your silver delta table\n",
    "- setup a write stream to append to the gold delta table\n",
    "- Use the defined GOLD_CHECKPOINT and GOLD_DELTA paths defines in the includes\n",
    "- name your silver to gold stream as gold_stream\n",
    "- transform the silver data to the gold data using the data definition at the top of the notebook\n",
    "- Load the pretrained transformer sentiment classifier from the MODEL_NAME at the production level from the MLflow registry\n",
    "- Use a spark UDF to parallelize the inference across your silver data"
   ]
  },
  {
   "cell_type": "code",
   "execution_count": 0,
   "metadata": {
    "application/vnd.databricks.v1+cell": {
     "cellMetadata": {
      "byteLimit": 2048000,
      "rowLimit": 10000
     },
     "inputWidgets": {},
     "nuid": "31e8949d-c016-44a7-9f03-65f471dfd22d",
     "showTitle": false,
     "title": ""
    }
   },
   "outputs": [],
   "source": [
    "# Setup a gold read stream with silver table\n",
    "silver_to_gold_stream = (\n",
    "    spark\n",
    "    .readStream                                         # Initialize the read stream\n",
    "    .format(\"delta\")                                    # Specify the format of the data source\n",
    "    .load(SILVER_DELTA)                                 # Load data from the 'SILVER_DELTA' table\n",
    ")"
   ]
  },
  {
   "cell_type": "code",
   "execution_count": 0,
   "metadata": {
    "application/vnd.databricks.v1+cell": {
     "cellMetadata": {
      "byteLimit": 2048000,
      "rowLimit": 10000
     },
     "inputWidgets": {},
     "nuid": "b8ef10af-d373-4f3d-9022-51c030d76e2f",
     "showTitle": false,
     "title": ""
    }
   },
   "outputs": [],
   "source": [
    "# Load the pretrained transformer sentiment classifier from the MODEL_NAME at the production level from the MLflow registry\n",
    "model_version_uri = f\"models:/{MODEL_NAME}/production\"\n",
    "# Use a spark UDF to parallelize the inference across your silver data\n",
    "HF_UDF = mlflow.pyfunc.spark_udf(spark, model_uri = model_version_uri)\n",
    "\n",
    "# Transform the silver data to the gold data using the data definition at the top of the notebook\n",
    "silver_to_gold_transform = (\n",
    "    silver_to_gold_stream\n",
    "    .withColumn(\"predicted\", HF_UDF(col('cleaned_text')))                    # Apply the MLflow model to predict sentiment\n",
    "    .withColumn(\"predicted_sentiment\",\n",
    "                when(col('predicted')['label'] == 'POS', \"positive\")\n",
    "                .when(col('predicted')['label'] == 'NEG', \"negative\")\n",
    "                .when(col('predicted')['label'] == 'NEU', \"neutral\"))        # Map predicted labels to sentiment categories\n",
    "    .withColumn(\"predicted_score\", (col('predicted')['score']).astype(DoubleType()))    # Extract and cast predicted scores\n",
    "    .drop(\"predicted\")\n",
    "    .withColumn(\"sentiment_id\",                      # O for negative and 1 for postive associated with the given sentiment\n",
    "                when(col('sentiment') == \"positive\", 1)\n",
    "                .when(col('sentiment') == \"negative\", 0))\n",
    "    .withColumn(\"predicted_sentiment_id\",            # O for negative and 1 for positive based on HF Sentiment Transformer\n",
    "                when(col('predicted_sentiment') == \"positive\", 1)\n",
    "                .when(col('predicted_sentiment') == \"negative\", 0))\n",
    ")"
   ]
  },
  {
   "cell_type": "code",
   "execution_count": 0,
   "metadata": {
    "application/vnd.databricks.v1+cell": {
     "cellMetadata": {
      "byteLimit": 2048000,
      "rowLimit": 10000
     },
     "inputWidgets": {},
     "nuid": "475c69ca-41ac-4d1e-a196-8bc137fe9018",
     "showTitle": false,
     "title": ""
    }
   },
   "outputs": [],
   "source": [
    "silver_to_gold_query = (\n",
    "    silver_to_gold_transform\n",
    "    .writeStream\n",
    "    .option(\"mergeSchema\", \"True\")\n",
    "    .outputMode(\"append\")\n",
    "    .format(\"delta\")\n",
    "    .queryName(\"gold_stream\")                              # Name silver to gold stream as gold_stream\n",
    "    .option(\"checkpointLocation\", GOLD_CHECKPOINT)\n",
    "    .start(GOLD_DELTA)\n",
    ")"
   ]
  },
  {
   "cell_type": "code",
   "execution_count": 0,
   "metadata": {
    "application/vnd.databricks.v1+cell": {
     "cellMetadata": {
      "byteLimit": 2048000,
      "rowLimit": 10000
     },
     "inputWidgets": {},
     "nuid": "a411a2f4-e0f1-49fd-a07c-e977f992e0f3",
     "showTitle": false,
     "title": ""
    }
   },
   "outputs": [],
   "source": [
    "gold_started = wait_stream_start(spark, \"gold_stream\")"
   ]
  },
  {
   "cell_type": "code",
   "execution_count": 0,
   "metadata": {
    "application/vnd.databricks.v1+cell": {
     "cellMetadata": {
      "byteLimit": 2048000,
      "rowLimit": 10000
     },
     "inputWidgets": {},
     "nuid": "5c74780e-b83a-4ea4-84b5-1fe0b2ab46cd",
     "showTitle": false,
     "title": ""
    }
   },
   "outputs": [],
   "source": [
    "gold_data = (spark.read.format(\"delta\").load(GOLD_DELTA))\n",
    "gold_data.show()"
   ]
  },
  {
   "cell_type": "code",
   "execution_count": 0,
   "metadata": {
    "application/vnd.databricks.v1+cell": {
     "cellMetadata": {
      "byteLimit": 2048000,
      "rowLimit": 10000
     },
     "inputWidgets": {},
     "nuid": "14aa2ca8-95a1-4d64-a676-8eb2c4ff9474",
     "showTitle": false,
     "title": ""
    }
   },
   "outputs": [],
   "source": [
    "# Count occurrences of 'neutral' in the 'predicted_sentiment' column\n",
    "all_count = gold_data.count()\n",
    "neutral_count = gold_data.filter(col(\"predicted_sentiment\") == \"neutral\").count()\n",
    "\n",
    "# Print the count\n",
    "print(f\"Number of value in 'predicted_sentiment' column:\", all_count)\n",
    "print(f\"Number of 'neutral' in 'predicted_sentiment' column:\", neutral_count)\n"
   ]
  },
  {
   "cell_type": "markdown",
   "metadata": {
    "application/vnd.databricks.v1+cell": {
     "cellMetadata": {
      "byteLimit": 2048000,
      "rowLimit": 10000
     },
     "inputWidgets": {},
     "nuid": "18451f73-56e9-4f08-b30d-ac9504886acd",
     "showTitle": false,
     "title": ""
    }
   },
   "source": [
    "I DECIDE TO DROP 'NEUTRAL' sentiment generated by HF model because I think it's hard to classify them into positive or negative based on sentiment score. Also, our dataset is huge, I think it can still generate meaningful result when I removed rows having 'neutral' in 'predicted_sentiment' column. Thus, in the next step, when i calculate each metric, I won't consider about the 'neutral'."
   ]
  },
  {
   "cell_type": "markdown",
   "metadata": {
    "application/vnd.databricks.v1+cell": {
     "cellMetadata": {
      "byteLimit": 2048000,
      "rowLimit": 10000
     },
     "inputWidgets": {},
     "nuid": "0494d8b4-5a55-47fc-af12-47325f34a303",
     "showTitle": false,
     "title": ""
    }
   },
   "source": [
    "## 7.0 Capture the accuracy metrics from the gold table in MLflow\n",
    "Store the following in an MLflow experiment run:\n",
    "- Store the precision, recall, and F1-score as MLflow metrics\n",
    "- Store an image of the confusion matrix as an MLflow artifact\n",
    "- Store the mdoel name and the MLflow version that was used as an MLflow parameters\n",
    "- Store the version of the Delta Table (input-silver) as an MLflow parameter"
   ]
  },
  {
   "cell_type": "code",
   "execution_count": 0,
   "metadata": {
    "application/vnd.databricks.v1+cell": {
     "cellMetadata": {
      "byteLimit": 2048000,
      "rowLimit": 10000
     },
     "inputWidgets": {},
     "nuid": "3bb174ad-67e4-4b0a-be36-ff20a760ee8b",
     "showTitle": false,
     "title": ""
    }
   },
   "outputs": [],
   "source": [
    "results = (\n",
    "    gold_data\n",
    "    .select(\"sentiment_id\", \"predicted_sentiment_id\")                             # select true results and predicted results\n",
    "    .toPandas()\n",
    "    .query(\"predicted_sentiment_id.notnull()\")\n",
    ")\n",
    "\n",
    "\n",
    "results['predicted_sentiment_id'] = results['predicted_sentiment_id'].astype(int)   # Convert predicted results to integers for scoring\n",
    "\n",
    "precision_value = precision_score(results['sentiment_id'], results['predicted_sentiment_id'])\n",
    "recall_value = recall_score(results['sentiment_id'], results['predicted_sentiment_id'])\n",
    "f1_score_value = f1_score(results['sentiment_id'], results['predicted_sentiment_id'])\n",
    "confusion_matrix_value = confusion_matrix(results['sentiment_id'], results['predicted_sentiment_id'])\n",
    "\n",
    "print(f\"Precision : {precision_value}\")\n",
    "print(f\"Recall : {recall_value}\")\n",
    "print(f\"F1-score : {f1_score_value}\")"
   ]
  },
  {
   "cell_type": "code",
   "execution_count": 0,
   "metadata": {
    "application/vnd.databricks.v1+cell": {
     "cellMetadata": {
      "byteLimit": 2048000,
      "rowLimit": 10000
     },
     "inputWidgets": {},
     "nuid": "ec441ec0-9cca-4bef-abdb-d0be53a01a44",
     "showTitle": false,
     "title": ""
    }
   },
   "outputs": [],
   "source": [
    "# Creating a heatmap using Matplotlib's imshow function\n",
    "plt.figure(figsize=(8, 6))\n",
    "plt.imshow(confusion_matrix_value, interpolation='nearest', cmap='Blues')\n",
    "plt.colorbar()  # Add a colorbar to a plot\n",
    "\n",
    "# Adding labels and title for clarity\n",
    "plt.xlabel('Predicted Labels')\n",
    "plt.ylabel('True Labels')\n",
    "plt.title('Confusion Matrix Heatmap')\n",
    "\n",
    "# Adding annotations inside the squares\n",
    "threshold = confusion_matrix_value.max() / 2.\n",
    "for i in range(confusion_matrix_value.shape[0]):\n",
    "    for j in range(confusion_matrix_value.shape[1]):\n",
    "        plt.text(j, i, format(confusion_matrix_value[i, j], 'd'),\n",
    "                 horizontalalignment=\"center\",\n",
    "                 color=\"white\" if confusion_matrix_value[i, j] > threshold else \"black\")\n",
    "\n",
    "# Ticking\n",
    "plt.xticks(np.arange(confusion_matrix_value.shape[1]), ['Label1', 'Label2']) \n",
    "plt.yticks(np.arange(confusion_matrix_value.shape[0]), ['Label1', 'Label2'])\n",
    "\n",
    "# Displaying the plot\n",
    "plt.show()"
   ]
  },
  {
   "cell_type": "code",
   "execution_count": 0,
   "metadata": {
    "application/vnd.databricks.v1+cell": {
     "cellMetadata": {
      "byteLimit": 2048000,
      "rowLimit": 10000
     },
     "inputWidgets": {},
     "nuid": "564edd38-b278-4a8f-b043-c4b5fb1471bf",
     "showTitle": false,
     "title": ""
    }
   },
   "outputs": [],
   "source": [
    "# Start MLflow run\n",
    "with mlflow.start_run():\n",
    "    # Prepare data and compute metrics\n",
    "    results = (\n",
    "        gold_data\n",
    "        .select(\"sentiment_id\", \"predicted_sentiment_id\")\n",
    "        .toPandas()\n",
    "        .query(\"predicted_sentiment_id.notnull()\")\n",
    "    )\n",
    "\n",
    "    results['predicted_sentiment_id'] = results['predicted_sentiment_id'].astype(int)\n",
    "\n",
    "    precision_value = precision_score(results['sentiment_id'], results['predicted_sentiment_id'])\n",
    "    recall_value = recall_score(results['sentiment_id'], results['predicted_sentiment_id'])\n",
    "    f1_score_value = f1_score(results['sentiment_id'], results['predicted_sentiment_id'])\n",
    "    confusion_matrix_value = confusion_matrix(results['sentiment_id'], results['predicted_sentiment_id'])\n",
    "\n",
    "    # Log metrics\n",
    "    mlflow.log_metric(\"precision\", precision_value)\n",
    "    mlflow.log_metric(\"recall\", recall_value)\n",
    "    mlflow.log_metric(\"f1_score\", f1_score_value)\n",
    "\n",
    "    # Creating a heatmap using Matplotlib's imshow function\n",
    "    plt.figure(figsize=(8, 6))\n",
    "    plt.imshow(confusion_matrix_value, interpolation='nearest', cmap='Blues')\n",
    "    plt.colorbar()  # Add a colorbar to a plot\n",
    "\n",
    "    # Adding results and title for clarity\n",
    "    plt.xlabel('Predicted results')\n",
    "    plt.ylabel('True results')\n",
    "    plt.title('Confusion Matrix Heatmap')\n",
    "\n",
    "    # Adding annotations inside the squares\n",
    "    threshold = confusion_matrix_value.max() / 2.\n",
    "    for i in range(confusion_matrix_value.shape[0]):\n",
    "        for j in range(confusion_matrix_value.shape[1]):\n",
    "            plt.text(j, i, format(confusion_matrix_value[i, j], 'd'),\n",
    "                    horizontalalignment=\"center\",\n",
    "                    color=\"white\" if confusion_matrix_value[i, j] > threshold else \"black\")\n",
    "\n",
    "    # Ticking\n",
    "    plt.xticks(np.arange(confusion_matrix_value.shape[1]), ['Label1', 'Label2']) \n",
    "    plt.yticks(np.arange(confusion_matrix_value.shape[0]), ['Label1', 'Label2'])\n",
    "\n",
    "    # Displaying the plot\n",
    "    plt.show()\n",
    "\n",
    "    # Save confusion matrix plot as an artifact\n",
    "    temp_file = \"confusion_matrix.png\"\n",
    "    plt.savefig(temp_file)\n",
    "    mlflow.log_artifact(temp_file)\n",
    "\n",
    "    # Log parameters\n",
    "    mlflow.log_param(\"model_name\", MODEL_NAME)\n",
    "    mlflow.log_param(\"mlflow_version\", mlflow.__version__)\n",
    "\n"
   ]
  },
  {
   "cell_type": "markdown",
   "metadata": {
    "application/vnd.databricks.v1+cell": {
     "cellMetadata": {
      "byteLimit": 2048000,
      "rowLimit": 10000
     },
     "inputWidgets": {},
     "nuid": "81e0e2de-b872-4698-81cc-1669646c2183",
     "showTitle": false,
     "title": ""
    }
   },
   "source": [
    "## 8.0 Application Data Processing and Visualization\n",
    "- How many mentions are there in the gold data total?\n",
    "- Count the number of neutral, positive and negative tweets for each mention in new columns\n",
    "- Capture the total for each mention in a new column\n",
    "- Sort the mention count totals in descending order\n",
    "- Plot a bar chart of the top 20 mentions with positive sentiment (the people who are in favor)\n",
    "- Plot a bar chart of the top 20 mentions with negative sentiment (the people who are the vilians)\n",
    "\n",
    "You may want to use the \"Loop Application\" widget to control whether you repeateded display the latest plots while the data comes in from your streams before moving on to the next section and cleaning up your run.\n",
    "\n",
    "*note: A mention is a specific twitter user that has been \"mentioned\" in a tweet with an @user reference."
   ]
  },
  {
   "cell_type": "code",
   "execution_count": 0,
   "metadata": {
    "application/vnd.databricks.v1+cell": {
     "cellMetadata": {
      "byteLimit": 2048000,
      "rowLimit": 10000
     },
     "inputWidgets": {},
     "nuid": "949917c6-0471-49a1-a989-1aa8cf0d11fe",
     "showTitle": false,
     "title": ""
    }
   },
   "outputs": [],
   "source": [
    "# How many mentions are there in the gold data total?\n",
    "unique_mention_count = gold_data.select('mention').distinct().count()\n",
    "\n",
    "print(f\"There are a total of {unique_mention_count} unique mention users in the gold table.\")"
   ]
  },
  {
   "cell_type": "code",
   "execution_count": 0,
   "metadata": {
    "application/vnd.databricks.v1+cell": {
     "cellMetadata": {
      "byteLimit": 2048000,
      "rowLimit": 10000
     },
     "inputWidgets": {},
     "nuid": "70f512fb-5eac-4785-99d9-eb95fba716ad",
     "showTitle": false,
     "title": ""
    }
   },
   "outputs": [],
   "source": [
    "# Count the number of neutral, positive and negative tweets for each mention in new columns\n",
    "# Capture the total for each mention in a new column\n",
    "# Sort the mention count totals in descending order\n",
    "\n",
    "app_data = (gold_data\n",
    "          .groupBy('mention')                                          # all on a given mention\n",
    "          .agg(min('timestamp').alias('min_timestamp'),                # the oldest timestamp\n",
    "               max('timestamp').alias('max_timestamp'),                # the newest timestamp\n",
    "               sum((gold_data.sentiment == 'negative').cast('int')).alias('negative'),\n",
    "               sum((gold_data.sentiment == 'neutral').cast('int')).alias('neutral'),\n",
    "               sum((gold_data.sentiment == 'positive').cast('int')).alias('positive'))\n",
    "          .withColumn('total_count', col('negative') + col('neutral') + col('positive'))\n",
    "          .select('min_timestamp', 'max_timestamp', 'mention', 'negative', 'neutral', 'positive', 'total_count')\n",
    "          .sort('total_count', ascending=False)\n",
    ")"
   ]
  },
  {
   "cell_type": "code",
   "execution_count": 0,
   "metadata": {
    "application/vnd.databricks.v1+cell": {
     "cellMetadata": {
      "byteLimit": 2048000,
      "rowLimit": 10000
     },
     "inputWidgets": {},
     "nuid": "5a066ad8-f7aa-4ba3-8b0a-2ac1aaaba823",
     "showTitle": false,
     "title": ""
    }
   },
   "outputs": [],
   "source": [
    "# Plot a bar chart of the top 20 mentions with positive sentiment\n",
    "top_20_positive_mentions = (\n",
    "    app_data\n",
    "    .select('mention', 'positive')\n",
    "    .sort('positive', ascending=False)\n",
    "    .limit(20)\n",
    ")\n",
    "display(top_20_positive_mentions)"
   ]
  },
  {
   "cell_type": "code",
   "execution_count": 0,
   "metadata": {
    "application/vnd.databricks.v1+cell": {
     "cellMetadata": {
      "byteLimit": 2048000,
      "rowLimit": 10000
     },
     "inputWidgets": {},
     "nuid": "c1b1d334-c6a9-4df5-9fd3-8cc1a7aac6b9",
     "showTitle": false,
     "title": ""
    }
   },
   "outputs": [],
   "source": [
    "# Plot a bar chart of the top 20 mentions with positive sentiment\n",
    "# Extract data for plotting\n",
    "positive_mentions = top_20_positive_mentions.select('mention').rdd.flatMap(lambda x: x).collect()\n",
    "positive_counts = top_20_positive_mentions.select('positive').rdd.flatMap(lambda x: x).collect()\n",
    "\n",
    "# Create bar chart\n",
    "plt.figure(figsize = (10, 6))\n",
    "plt.barh(positive_mentions, positive_counts, color='skyblue')\n",
    "plt.xlabel('Positive Sentiment Count')\n",
    "plt.ylabel('Positive Mentions')\n",
    "plt.title('Top 20 Mentions with Positive Sentiment')\n",
    "plt.gca().invert_yaxis()  # Invert y-axis to have the highest count at the top\n",
    "plt.tight_layout()\n",
    "\n",
    "# Show plot\n",
    "plt.show()"
   ]
  },
  {
   "cell_type": "code",
   "execution_count": 0,
   "metadata": {
    "application/vnd.databricks.v1+cell": {
     "cellMetadata": {
      "byteLimit": 2048000,
      "rowLimit": 10000
     },
     "inputWidgets": {},
     "nuid": "f10ba7bc-0e9d-4d1e-aff7-c5495a457f00",
     "showTitle": false,
     "title": ""
    }
   },
   "outputs": [],
   "source": [
    "# top_20_positive_mentions\n",
    "top_20_negative_mentions = (\n",
    "    app_data\n",
    "    .select('mention', 'negative')\n",
    "    .sort('negative', ascending=False)\n",
    "    .limit(20)\n",
    ")\n",
    "display(top_20_negative_mentions)"
   ]
  },
  {
   "cell_type": "code",
   "execution_count": 0,
   "metadata": {
    "application/vnd.databricks.v1+cell": {
     "cellMetadata": {
      "byteLimit": 2048000,
      "rowLimit": 10000
     },
     "inputWidgets": {},
     "nuid": "1154fc81-9bf7-445c-93c5-33c10b51e243",
     "showTitle": false,
     "title": ""
    }
   },
   "outputs": [],
   "source": [
    "# Plot a bar chart of the top 20 mentions with negative sentiment\n",
    "# Extract data for plotting\n",
    "negative_mentions = top_20_negative_mentions.select('mention').rdd.flatMap(lambda x: x).collect()\n",
    "negative_counts = top_20_negative_mentions.select('negative').rdd.flatMap(lambda x: x).collect()\n",
    "\n",
    "# Create bar chart\n",
    "plt.figure(figsize = (10, 6))\n",
    "plt.barh(negative_mentions, negative_counts, color='skyblue')\n",
    "plt.xlabel('Negative Sentiment Count')\n",
    "plt.ylabel('Negative Mentions')\n",
    "plt.title('Top 20 Mentions with Negative Sentiment')\n",
    "plt.gca().invert_yaxis()  # Invert y-axis to have the highest count at the top\n",
    "plt.tight_layout()\n",
    "\n",
    "# Show plot\n",
    "plt.show()"
   ]
  },
  {
   "cell_type": "markdown",
   "metadata": {
    "application/vnd.databricks.v1+cell": {
     "cellMetadata": {
      "byteLimit": 2048000,
      "rowLimit": 10000
     },
     "inputWidgets": {},
     "nuid": "5d5add3f-0c13-4d81-86d8-12cf3cfdd2c8",
     "showTitle": false,
     "title": ""
    }
   },
   "source": [
    "## 9.0 Clean up and completion of your pipeline\n",
    "- using the utilities what streams are running? If any.\n",
    "- Stop all active streams\n",
    "- print out the elapsed time of your notebook."
   ]
  },
  {
   "cell_type": "code",
   "execution_count": 0,
   "metadata": {
    "application/vnd.databricks.v1+cell": {
     "cellMetadata": {
      "byteLimit": 2048000,
      "rowLimit": 10000
     },
     "inputWidgets": {},
     "nuid": "60a72582-25b7-42ed-8b34-e34730d0ac06",
     "showTitle": false,
     "title": ""
    }
   },
   "outputs": [],
   "source": [
    "# Print active streams\n",
    "for stream in spark.streams.active:\n",
    "    print(f\"Stream {stream.name} was active\")\n",
    "    stop_named_stream(spark, stream.name)"
   ]
  },
  {
   "cell_type": "code",
   "execution_count": 0,
   "metadata": {
    "application/vnd.databricks.v1+cell": {
     "cellMetadata": {
      "byteLimit": 2048000,
      "rowLimit": 10000
     },
     "inputWidgets": {},
     "nuid": "0304e685-c26e-447d-b230-c37266f30003",
     "showTitle": false,
     "title": ""
    }
   },
   "outputs": [],
   "source": [
    "# Stop all active streams\n",
    "stop_all_streams()"
   ]
  },
  {
   "cell_type": "code",
   "execution_count": 0,
   "metadata": {
    "application/vnd.databricks.v1+cell": {
     "cellMetadata": {
      "byteLimit": 2048000,
      "rowLimit": 10000
     },
     "inputWidgets": {},
     "nuid": "ea759fc8-1d78-4d6d-b571-e2e256448b76",
     "showTitle": false,
     "title": ""
    }
   },
   "outputs": [],
   "source": [
    "# Get the notebooks ending time note START_TIME was established in the include file when the notebook started.\n",
    "END_TIME = time.time()\n",
    "TOTAL_TIME = (END_TIME - START_TIME)"
   ]
  },
  {
   "cell_type": "code",
   "execution_count": 0,
   "metadata": {
    "application/vnd.databricks.v1+cell": {
     "cellMetadata": {
      "byteLimit": 2048000,
      "rowLimit": 10000
     },
     "inputWidgets": {},
     "nuid": "c2f8ad8b-cbaf-426c-bf4a-88a862cdfd6f",
     "showTitle": false,
     "title": ""
    }
   },
   "outputs": [],
   "source": [
    "# Print out the elapsed time of your notebook.\n",
    "print(f'It started at {START_TIME} to run all the notebook')\n",
    "print(f'It ended at {END_TIME} to finish all the notebook')\n",
    "print(f'It took {TOTAL_TIME} seconds to run through all the notebook')"
   ]
  },
  {
   "cell_type": "markdown",
   "metadata": {
    "application/vnd.databricks.v1+cell": {
     "cellMetadata": {
      "byteLimit": 2048000,
      "rowLimit": 10000
     },
     "inputWidgets": {},
     "nuid": "b88fc0e5-f50c-4ed1-9480-16a4c8a44b30",
     "showTitle": false,
     "title": ""
    }
   },
   "source": [
    "## 10.0 How Optimized is your Spark Application (Grad Students Only)\n",
    "Graduate students (registered for the DSCC-402 section of the course) are required to do this section.  This is a written analysis using the Spark UI (link to screen shots) that support your analysis of your pipelines execution and what is driving its performance.\n",
    "Recall that Spark Optimization has 5 significant dimensions of considertation:\n",
    "- Spill: write to executor disk due to lack of memory\n",
    "- Skew: imbalance in partition size\n",
    "- Shuffle: network io moving data between executors (wide transforms)\n",
    "- Storage: inefficiency due to disk storage format (small files, location)\n",
    "- Serialization: distribution of code segments across the cluster\n",
    "\n",
    "Comment on each of the dimentions of performance and how your impelementation is or is not being affected.  Use specific information in the Spark UI to support your description.  \n",
    "\n",
    "Note: you can take sreenshots of the Spark UI from your project runs in databricks and then link to those pictures by storing them as a publicly accessible file on your cloud drive (google, one drive, etc.)\n",
    "\n",
    "References:\n",
    "- [Spark UI Reference Reference](https://spark.apache.org/docs/latest/web-ui.html#web-ui)\n",
    "- [Spark UI Simulator](https://www.databricks.training/spark-ui-simulator/index.html)"
   ]
  },
  {
   "cell_type": "markdown",
   "metadata": {
    "application/vnd.databricks.v1+cell": {
     "cellMetadata": {
      "byteLimit": 2048000,
      "rowLimit": 10000
     },
     "inputWidgets": {},
     "nuid": "a0a5707d-a5ca-4e87-9e74-3b13d00337b0",
     "showTitle": false,
     "title": ""
    }
   },
   "source": [
    "### ENTER YOUR MARKDOWN HERE"
   ]
  }
 ],
 "metadata": {
  "application/vnd.databricks.v1+notebook": {
   "dashboards": [],
   "language": "python",
   "notebookMetadata": {
    "mostRecentlyExecutedCommandWithImplicitDF": {
     "commandId": -1,
     "dataframes": [
      "_sqldf"
     ]
    },
    "pythonIndentUnit": 4,
    "widgetLayout": [
     {
      "breakBefore": false,
      "name": "clear_previous_run",
      "width": 203
     },
     {
      "breakBefore": false,
      "name": "stop_streams",
      "width": 203
     }
    ]
   },
   "notebookName": "Starter Streaming Tweet Sentiment - Spring 2024 Final Project",
   "widgets": {
    "clear_previous_run": {
     "currentValue": "No",
     "nuid": "11b43403-c70f-41ef-ab0e-41172583baaa",
     "typedWidgetInfo": null,
     "widgetInfo": {
      "widgetType": "dropdown",
      "defaultValue": "No",
      "label": null,
      "name": "clear_previous_run",
      "options": {
       "widgetType": "dropdown",
       "autoCreated": null,
       "choices": [
        "No",
        "Yes"
       ]
      }
     }
    },
    "optimize_tables": {
     "currentValue": "No",
     "nuid": "d27f2950-3146-4010-8bc6-58c47a93e7a9",
     "typedWidgetInfo": null,
     "widgetInfo": {
      "widgetType": "dropdown",
      "defaultValue": "No",
      "label": null,
      "name": "optimize_tables",
      "options": {
       "widgetType": "dropdown",
       "autoCreated": null,
       "choices": [
        "No",
        "Yes"
       ]
      }
     }
    },
    "stop_streams": {
     "currentValue": "No",
     "nuid": "d70a2190-266e-473c-86a7-84f7bf56b386",
     "typedWidgetInfo": null,
     "widgetInfo": {
      "widgetType": "dropdown",
      "defaultValue": "No",
      "label": null,
      "name": "stop_streams",
      "options": {
       "widgetType": "dropdown",
       "autoCreated": null,
       "choices": [
        "No",
        "Yes"
       ]
      }
     }
    }
   }
  }
 },
 "nbformat": 4,
 "nbformat_minor": 0
}
